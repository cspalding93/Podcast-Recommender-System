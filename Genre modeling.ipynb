{
 "cells": [
  {
   "cell_type": "code",
   "execution_count": 1,
   "metadata": {},
   "outputs": [],
   "source": [
    "import pandas as pd\n",
    "import numpy as np\n",
    "import re\n",
    "\n",
    "import time\n",
    "import warnings\n",
    "warnings.filterwarnings(\"ignore\")"
   ]
  },
  {
   "cell_type": "code",
   "execution_count": 124,
   "metadata": {},
   "outputs": [],
   "source": [
    "df = pd.read_csv(\"raw data/podcasts.csv\")\n",
    "podcasts = pd.read_csv(\"raw data/episodes.csv\")\n",
    "\n",
    "# making genre dummy columns\n",
    "genres = list(set([g for g in df[\"categories\"] if not \" | \" in g]))\n",
    "for g in genres:\n",
    "    df[f\"{g}_genre\"] = [1 if g in cell else 0 for cell in df[\"categories\"]]\n",
    "genre_cols = [f\"{g}_genre\" for g in genres]\n",
    "\n",
    "episodes = podcasts[[\"title\",\"podcast_uuid\",\"audio\", \"description\", \"audio_length\"]]\n",
    "merging = df[[\"uuid\", \"language\", \"title\", ]+genre_cols]\n",
    "\n",
    "combined = episodes.merge(merging, left_on=\"podcast_uuid\", right_on=\"uuid\" )\n",
    "english_pods = combined[combined[\"language\"] == \"English\"]\n",
    "final_pods = english_pods[[\"title_x\", \"audio\", \"description\", \"audio_length\", \"title_y\",]+genre_cols]"
   ]
  },
  {
   "cell_type": "code",
   "execution_count": 3,
   "metadata": {
    "scrolled": false
   },
   "outputs": [],
   "source": [
    "final_pods[\"text\"] = final_pods[\"title_x\"] + \" \" + final_pods[\"description\"]\n",
    "final_pods[\"text\"] = final_pods[\"text\"].str.lower()\n",
    "final_pods.drop_duplicates(subset=\"text\", inplace=True)\n",
    "final_pods.dropna(inplace=True)\n",
    "final_pods.reset_index(drop=True, inplace=True)\n",
    "\n",
    "final_pods.to_csv(\"raw data/genre_training.csv\", index=False)"
   ]
  },
  {
   "cell_type": "code",
   "execution_count": 4,
   "metadata": {},
   "outputs": [],
   "source": [
    "final_pods = pd.read_csv(\"raw data/genre_training.csv\")\n",
    "\n",
    "genre_training = final_pods[[\"text\"]+ genre_cols]\n",
    "genre_training.dropna(inplace=True)\n",
    "genre_training.reset_index(drop=True, inplace=True)"
   ]
  },
  {
   "cell_type": "code",
   "execution_count": 2,
   "metadata": {},
   "outputs": [
    {
     "name": "stderr",
     "output_type": "stream",
     "text": [
      "Using TensorFlow backend.\n"
     ]
    }
   ],
   "source": [
    "from sklearn.model_selection import GridSearchCV\n",
    "from sklearn.pipeline import Pipeline\n",
    "from sklearn.feature_extraction.text import TfidfVectorizer\n",
    "from sklearn.model_selection import train_test_split\n",
    "\n",
    "import matplotlib.pyplot as plt\n",
    "\n",
    "from tensorflow.python.keras.models import Sequential\n",
    "from tensorflow.python.keras.layers import Dense, Dropout\n",
    "from keras import regularizers"
   ]
  },
  {
   "cell_type": "code",
   "execution_count": 58,
   "metadata": {},
   "outputs": [
    {
     "ename": "NameError",
     "evalue": "name 'genre_cols' is not defined",
     "output_type": "error",
     "traceback": [
      "\u001b[1;31m---------------------------------------------------------------------------\u001b[0m",
      "\u001b[1;31mNameError\u001b[0m                                 Traceback (most recent call last)",
      "\u001b[1;32m<ipython-input-58-e1ea187fd1c6>\u001b[0m in \u001b[0;36m<module>\u001b[1;34m\u001b[0m\n\u001b[1;32m----> 1\u001b[1;33m \u001b[1;32mfor\u001b[0m \u001b[0mcol\u001b[0m \u001b[1;32min\u001b[0m \u001b[0mgenre_cols\u001b[0m\u001b[1;33m:\u001b[0m\u001b[1;33m\u001b[0m\u001b[1;33m\u001b[0m\u001b[0m\n\u001b[0m\u001b[0;32m      2\u001b[0m     \u001b[0mprint\u001b[0m\u001b[1;33m(\u001b[0m\u001b[1;34mf\"{col} composition: {np.round(genre_training[col].mean() * 100, 2)}\"\u001b[0m\u001b[1;33m)\u001b[0m\u001b[1;33m\u001b[0m\u001b[1;33m\u001b[0m\u001b[0m\n",
      "\u001b[1;31mNameError\u001b[0m: name 'genre_cols' is not defined"
     ]
    }
   ],
   "source": [
    "for col in genre_cols:\n",
    "    print(f\"{col} composition: {np.round(genre_training[col].mean() * 100, 2)}\")"
   ]
  },
  {
   "cell_type": "code",
   "execution_count": 75,
   "metadata": {},
   "outputs": [],
   "source": [
    "def multiple_2s(n):\n",
    "    multiple = 2\n",
    "    multiples = []\n",
    "    while multiple in range(n+1):\n",
    "        multiples.append(multiple)\n",
    "        multiple *= 2\n",
    "    return multiples[-1]"
   ]
  },
  {
   "cell_type": "code",
   "execution_count": 76,
   "metadata": {},
   "outputs": [
    {
     "data": {
      "text/plain": [
       "64"
      ]
     },
     "execution_count": 76,
     "metadata": {},
     "output_type": "execute_result"
    }
   ],
   "source": [
    "multiple_2s(100)"
   ]
  },
  {
   "cell_type": "code",
   "execution_count": 79,
   "metadata": {},
   "outputs": [],
   "source": []
  },
  {
   "cell_type": "code",
   "execution_count": 11,
   "metadata": {},
   "outputs": [],
   "source": [
    "g = \"Kids & Family_genre\"\n",
    "def genre_df(df, col):\n",
    "#   \n",
    "    np.random.seed(42)\n",
    "    genre = df[df[col] == 1]   \n",
    "    other = df[df[col] == 0]\n",
    "    rand_balance = np.random.choice(other.index, genre.shape[0]*3)\n",
    "    balance = df.iloc[list(rand_balance),:]\n",
    "\n",
    "#     return dataframe and my X & y variable\n",
    "    return pd.concat([genre, balance])"
   ]
  },
  {
   "cell_type": "code",
   "execution_count": 9,
   "metadata": {},
   "outputs": [],
   "source": [
    "data = genre_training"
   ]
  },
  {
   "cell_type": "code",
   "execution_count": 11,
   "metadata": {},
   "outputs": [],
   "source": [
    "for i, text in zip(data.index, data.text):\n",
    "    data[\"text\"][i] = re.sub(\"<[^>]*>\", \"\", text)"
   ]
  },
  {
   "cell_type": "code",
   "execution_count": 8,
   "metadata": {},
   "outputs": [],
   "source": [
    "data.to_csv(\"Cleaned data/html_free_podcasts.csv\", index=False)"
   ]
  },
  {
   "cell_type": "code",
   "execution_count": 9,
   "metadata": {},
   "outputs": [],
   "source": [
    "data = pd.read_csv(\"Cleaned data/html_free_podcasts.csv\")"
   ]
  },
  {
   "cell_type": "code",
   "execution_count": 13,
   "metadata": {},
   "outputs": [],
   "source": [
    "df = genre_df(data, g)"
   ]
  },
  {
   "cell_type": "code",
   "execution_count": 34,
   "metadata": {},
   "outputs": [],
   "source": [
    "X = df[\"text\"]\n",
    "y = df[\"Kids & Family_genre\"]\n",
    "X_train, X_test, y_train, y_test = train_test_split(X,y, stratify=y, random_state=42)\n",
    "\n",
    "features = 4000\n",
    "\n",
    "tvec = TfidfVectorizer(stop_words=\"english\",\n",
    "                       ngram_range = (1,2),\n",
    "                       max_features = features)\n",
    "X_train_vec = tvec.fit_transform(X_train)\n",
    "X_test_vec = tvec.transform(X_test)"
   ]
  },
  {
   "cell_type": "code",
   "execution_count": 14,
   "metadata": {},
   "outputs": [
    {
     "data": {
      "text/plain": [
       "(360208, 2000)"
      ]
     },
     "execution_count": 14,
     "metadata": {},
     "output_type": "execute_result"
    }
   ],
   "source": [
    "(X_train_vec.todense()).shape"
   ]
  },
  {
   "cell_type": "code",
   "execution_count": null,
   "metadata": {},
   "outputs": [],
   "source": []
  },
  {
   "cell_type": "code",
   "execution_count": 35,
   "metadata": {},
   "outputs": [],
   "source": [
    "nodes_1 = multiple_2s(features)\n",
    "nodes_2 = multiple_2s(features)"
   ]
  },
  {
   "cell_type": "code",
   "execution_count": 36,
   "metadata": {
    "scrolled": true
   },
   "outputs": [
    {
     "name": "stdout",
     "output_type": "stream",
     "text": [
      "Train on 28461 samples, validate on 9487 samples\n",
      "Epoch 1/6\n",
      "28461/28461 [==============================] - 13s 460us/sample - loss: 0.5190 - acc: 0.7367 - val_loss: 0.4444 - val_acc: 0.7500\n",
      "Epoch 2/6\n",
      "28461/28461 [==============================] - 13s 450us/sample - loss: 0.3899 - acc: 0.7689 - val_loss: 0.4007 - val_acc: 0.8096\n",
      "Epoch 3/6\n",
      "28461/28461 [==============================] - 13s 451us/sample - loss: 0.3226 - acc: 0.8521 - val_loss: 0.3939 - val_acc: 0.8472\n",
      "Epoch 4/6\n",
      "28461/28461 [==============================] - 13s 458us/sample - loss: 0.2626 - acc: 0.9064 - val_loss: 0.4012 - val_acc: 0.8566\n",
      "Epoch 5/6\n",
      "28461/28461 [==============================] - 13s 457us/sample - loss: 0.1874 - acc: 0.9551 - val_loss: 0.4273 - val_acc: 0.8594\n",
      "Epoch 6/6\n",
      "28461/28461 [==============================] - 13s 450us/sample - loss: 0.0972 - acc: 0.9748 - val_loss: 0.4890 - val_acc: 0.8566\n"
     ]
    }
   ],
   "source": [
    "model = Sequential()\n",
    "\n",
    "model.add(Dense(nodes_1, \n",
    "                activation=\"relu\", \n",
    "                input_shape=(features,),\n",
    "               ))\n",
    "model.add(Dropout(.2))\n",
    "model.add(Dense(nodes_2, \n",
    "                activation=\"relu\",\n",
    "               ))\n",
    "model.add(Dropout(.2))\n",
    "model.add(Dense(1, \n",
    "                activation = \"sigmoid\",\n",
    "               ))\n",
    "\n",
    "model.compile(\n",
    "    optimizer=\"adam\",\n",
    "    loss=\"binary_crossentropy\",\n",
    "    metrics = [\"acc\"]\n",
    ")\n",
    "\n",
    "mod_hist= model.fit(X_train_vec.todense(), y_train,\n",
    "          batch_size=(multiple_2s(features)),\n",
    "          validation_data = (X_test_vec.todense(), y_test),\n",
    "          epochs = 6\n",
    "         )"
   ]
  },
  {
   "cell_type": "code",
   "execution_count": 78,
   "metadata": {},
   "outputs": [
    {
     "data": {
      "image/png": "[encoded data removed]",
      "text/plain": [
       "<Figure size 540x432 with 1 Axes>"
      ]
     },
     "metadata": {
      "needs_background": "light"
     },
     "output_type": "display_data"
    }
   ],
   "source": [
    "plt.figure(figsize=(7.5,6))\n",
    "plt.plot(mod_hist.history['acc'], label='NN Train accuracy')\n",
    "plt.plot(mod_hist.history['val_acc'], label='NN Test accuracy')\n",
    "plt.plot([0.86]*6,\"--\", label=\"LogReg Train acc\")\n",
    "plt.plot([0.83]*6,\"--\", label=\"LogReg Test acc\")\n",
    "plt.legend();\n",
    "plt.title(\"Accuracy (6 epochs)\")\n",
    "plt.show()"
   ]
  },
  {
   "cell_type": "code",
   "execution_count": null,
   "metadata": {},
   "outputs": [],
   "source": [
    "mod_hist.history['val_acc']"
   ]
  },
  {
   "cell_type": "code",
   "execution_count": 20,
   "metadata": {},
   "outputs": [
    {
     "data": {
      "text/plain": [
       "0.75"
      ]
     },
     "execution_count": 20,
     "metadata": {},
     "output_type": "execute_result"
    }
   ],
   "source": [
    "1- y.mean()"
   ]
  },
  {
   "cell_type": "code",
   "execution_count": 53,
   "metadata": {},
   "outputs": [],
   "source": [
    "from sklearn.linear_model import LogisticRegression\n",
    "import pickle"
   ]
  },
  {
   "cell_type": "code",
   "execution_count": 38,
   "metadata": {},
   "outputs": [
    {
     "data": {
      "text/plain": [
       "LogisticRegression(C=1.0, class_weight=None, dual=False, fit_intercept=True,\n",
       "                   intercept_scaling=1, l1_ratio=None, max_iter=100,\n",
       "                   multi_class='warn', n_jobs=None, penalty='l2',\n",
       "                   random_state=None, solver='warn', tol=0.0001, verbose=0,\n",
       "                   warm_start=False)"
      ]
     },
     "execution_count": 38,
     "metadata": {},
     "output_type": "execute_result"
    }
   ],
   "source": [
    "logr = LogisticRegression()\n",
    "\n",
    "logr.fit(X_train_vec.todense(), y_train)"
   ]
  },
  {
   "cell_type": "code",
   "execution_count": 49,
   "metadata": {},
   "outputs": [
    {
     "data": {
      "text/plain": [
       "0.8651488001124346"
      ]
     },
     "execution_count": 49,
     "metadata": {},
     "output_type": "execute_result"
    }
   ],
   "source": [
    "logr.score(X_train_vec.todense(), y_train)"
   ]
  },
  {
   "cell_type": "markdown",
   "metadata": {},
   "source": [
    "### Producing & Saving all the models needed\n",
    "_______________________________________"
   ]
  },
  {
   "cell_type": "code",
   "execution_count": 64,
   "metadata": {},
   "outputs": [],
   "source": [
    "genre_cols = list(data.columns[data.columns.str.contains(\"_genre\")])"
   ]
  },
  {
   "cell_type": "code",
   "execution_count": 80,
   "metadata": {},
   "outputs": [
    {
     "name": "stdout",
     "output_type": "stream",
     "text": [
      "Finished Arts genre \n",
      " training score: 0.8282569825513287 \n",
      " testing score: 0.8114865281460016 \n",
      " \n",
      "\n",
      "Finished Science & Medicine genre \n",
      " training score: 0.8785614551492509 \n",
      " testing score: 0.8509000339635457 \n",
      " \n",
      "\n",
      "Finished Sports & Recreation genre \n",
      " training score: 0.9262771824663684 \n",
      " testing score: 0.9240327900261389 \n",
      " \n",
      "\n",
      "Finished News & Politics genre \n",
      " training score: 0.8734077271291715 \n",
      " testing score: 0.8690125276344879 \n",
      " \n",
      "\n",
      "Finished Comedy genre \n",
      " training score: 0.8350004763265695 \n",
      " testing score: 0.8252028051970893 \n",
      " \n",
      "\n",
      "Finished Music genre \n",
      " training score: 0.8908470437532525 \n",
      " testing score: 0.8843220847844362 \n",
      " \n",
      "\n",
      "Finished Government & Organizations genre \n",
      " training score: 0.869261656478485 \n",
      " testing score: 0.850683207479324 \n",
      " \n",
      "\n",
      "Finished Society & Culture genre \n",
      " training score: 0.7877856508397932 \n",
      " testing score: 0.7786912548449613 \n",
      " \n",
      "\n",
      "Finished Kids & Family genre \n",
      " training score: 0.8652893433119005 \n",
      " testing score: 0.8409402340044271 \n",
      " \n",
      "\n",
      "Finished Business genre \n",
      " training score: 0.8877936458656732 \n",
      " testing score: 0.881377419021008 \n",
      " \n",
      "\n",
      "Finished Health genre \n",
      " training score: 0.8752398334035285 \n",
      " testing score: 0.8651902288361646 \n",
      " \n",
      "\n",
      "Finished Games & Hobbies genre \n",
      " training score: 0.8817040758322964 \n",
      " testing score: 0.8706733649813339 \n",
      " \n",
      "\n",
      "Finished Education genre \n",
      " training score: 0.8330434782608696 \n",
      " testing score: 0.8202254428341385 \n",
      " \n",
      "\n",
      "Finished Religion & Spirituality genre \n",
      " training score: 0.9403053483373373 \n",
      " testing score: 0.9388355038563662 \n",
      " \n",
      "\n",
      "Finished Technology genre \n",
      " training score: 0.8566109671462186 \n",
      " testing score: 0.8443392011437763 \n",
      " \n",
      "\n",
      "Finished TV & Film genre \n",
      " training score: 0.8794563958803095 \n",
      " testing score: 0.8690048144311049 \n",
      " \n",
      "\n"
     ]
    }
   ],
   "source": [
    "# Produce a df that is able to \n",
    "for g in genre_cols:\n",
    "    df = genre_df(data, g)\n",
    "\n",
    "\n",
    "    X = df[\"text\"]\n",
    "    y = df[g]\n",
    "    X_train, X_test, y_train, y_test = train_test_split(X,y, stratify=y, random_state=42)\n",
    "\n",
    "    features = 4000\n",
    "\n",
    "    tvec = TfidfVectorizer(stop_words=\"english\",\n",
    "                           ngram_range = (1,2),\n",
    "                           max_features = features)\n",
    "    X_train_vec = tvec.fit_transform(X_train)\n",
    "    X_test_vec = tvec.transform(X_test)\n",
    "\n",
    "    logr = LogisticRegression()\n",
    "\n",
    "    logr.fit(X_train_vec.todense(), y_train)\n",
    "\n",
    "    train_score = logr.score(X_train_vec.todense(), y_train)\n",
    "    test_score = logr.score(X_test_vec.todense(), y_test)\n",
    "\n",
    "    print(f\"Finished {g.replace('_genre', '')} genre \\n\", \n",
    "          f\"training score: {train_score} \\n\",\n",
    "          f\"testing score: {test_score} \\n \\n\")\n",
    "\n",
    "    pickle.dump(logr, open(f\"Genre models/{g}.sav\", \"wb\"))"
   ]
  },
  {
   "cell_type": "code",
   "execution_count": null,
   "metadata": {},
   "outputs": [],
   "source": []
  },
  {
   "cell_type": "code",
   "execution_count": null,
   "metadata": {},
   "outputs": [],
   "source": []
  },
  {
   "cell_type": "code",
   "execution_count": null,
   "metadata": {},
   "outputs": [],
   "source": []
  },
  {
   "cell_type": "markdown",
   "metadata": {},
   "source": [
    "### making predictions on the transcripts available\n",
    "______________________"
   ]
  },
  {
   "cell_type": "code",
   "execution_count": 97,
   "metadata": {},
   "outputs": [],
   "source": [
    "tal = pd.read_csv(\"Cleaned data/TAL_clean.csv\")"
   ]
  },
  {
   "cell_type": "code",
   "execution_count": 98,
   "metadata": {},
   "outputs": [],
   "source": [
    "for g in genres:\n",
    "\n",
    "    model = pickle.load(open(f\"Genre models/{g}.sav\",\"rb\"))\n",
    "\n",
    "    df = genre_df(data, f\"{g}\")\n",
    "\n",
    "    X = df[\"text\"]\n",
    "    y = df[f\"{g}\"]\n",
    "    X_train, X_test, y_train, y_test = train_test_split(X,y, stratify=y, random_state=42)\n",
    "\n",
    "    features = 4000\n",
    "\n",
    "    tvec = TfidfVectorizer(stop_words=\"english\",\n",
    "                           ngram_range = (1,2),\n",
    "                           max_features = features)\n",
    "    X_train_vec = tvec.fit_transform(X_train)\n",
    "    tal_X = tvec.transform(tal[\"text\"])\n",
    "\n",
    "    yhat = model.predict(tal_X.todense())\n",
    "\n",
    "    tal = tal.join(pd.DataFrame(yhat, columns=[f\"{g}\"]))"
   ]
  },
  {
   "cell_type": "code",
   "execution_count": 99,
   "metadata": {},
   "outputs": [
    {
     "data": {
      "text/html": [
       "<div>\n",
       "<style scoped>\n",
       "    .dataframe tbody tr th:only-of-type {\n",
       "        vertical-align: middle;\n",
       "    }\n",
       "\n",
       "    .dataframe tbody tr th {\n",
       "        vertical-align: top;\n",
       "    }\n",
       "\n",
       "    .dataframe thead th {\n",
       "        text-align: right;\n",
       "    }\n",
       "</style>\n",
       "<table border=\"1\" class=\"dataframe\">\n",
       "  <thead>\n",
       "    <tr style=\"text-align: right;\">\n",
       "      <th></th>\n",
       "      <th>title</th>\n",
       "      <th>text</th>\n",
       "      <th>Arts_genre</th>\n",
       "      <th>Science &amp; Medicine_genre</th>\n",
       "      <th>Sports &amp; Recreation_genre</th>\n",
       "      <th>News &amp; Politics_genre</th>\n",
       "      <th>Comedy_genre</th>\n",
       "      <th>Music_genre</th>\n",
       "      <th>Government &amp; Organizations_genre</th>\n",
       "      <th>Society &amp; Culture_genre</th>\n",
       "      <th>Kids &amp; Family_genre</th>\n",
       "      <th>Business_genre</th>\n",
       "      <th>Health_genre</th>\n",
       "      <th>Games &amp; Hobbies_genre</th>\n",
       "      <th>Education_genre</th>\n",
       "      <th>Religion &amp; Spirituality_genre</th>\n",
       "      <th>Technology_genre</th>\n",
       "      <th>TV &amp; Film_genre</th>\n",
       "    </tr>\n",
       "  </thead>\n",
       "  <tbody>\n",
       "    <tr>\n",
       "      <td>0</td>\n",
       "      <td>New Beginnings</td>\n",
       "      <td>joe franklin  i am ready it is ira glass here...</td>\n",
       "      <td>0</td>\n",
       "      <td>1</td>\n",
       "      <td>0</td>\n",
       "      <td>0</td>\n",
       "      <td>0</td>\n",
       "      <td>0</td>\n",
       "      <td>0</td>\n",
       "      <td>0</td>\n",
       "      <td>0</td>\n",
       "      <td>1</td>\n",
       "      <td>1</td>\n",
       "      <td>0</td>\n",
       "      <td>0</td>\n",
       "      <td>0</td>\n",
       "      <td>0</td>\n",
       "      <td>0</td>\n",
       "    </tr>\n",
       "    <tr>\n",
       "      <td>1</td>\n",
       "      <td>Small Scale Sin</td>\n",
       "      <td>ok three boys aged 13 15 and 16 all three cho...</td>\n",
       "      <td>1</td>\n",
       "      <td>0</td>\n",
       "      <td>0</td>\n",
       "      <td>0</td>\n",
       "      <td>0</td>\n",
       "      <td>0</td>\n",
       "      <td>0</td>\n",
       "      <td>0</td>\n",
       "      <td>0</td>\n",
       "      <td>1</td>\n",
       "      <td>0</td>\n",
       "      <td>1</td>\n",
       "      <td>1</td>\n",
       "      <td>0</td>\n",
       "      <td>0</td>\n",
       "      <td>0</td>\n",
       "    </tr>\n",
       "    <tr>\n",
       "      <td>2</td>\n",
       "      <td>Poultry Slam 1995</td>\n",
       "      <td>in danielle s house ever since she was a girl...</td>\n",
       "      <td>1</td>\n",
       "      <td>0</td>\n",
       "      <td>0</td>\n",
       "      <td>0</td>\n",
       "      <td>0</td>\n",
       "      <td>0</td>\n",
       "      <td>0</td>\n",
       "      <td>0</td>\n",
       "      <td>0</td>\n",
       "      <td>1</td>\n",
       "      <td>0</td>\n",
       "      <td>0</td>\n",
       "      <td>0</td>\n",
       "      <td>0</td>\n",
       "      <td>0</td>\n",
       "      <td>0</td>\n",
       "    </tr>\n",
       "    <tr>\n",
       "      <td>3</td>\n",
       "      <td>Vacations</td>\n",
       "      <td>the thing about hawaii is that before you go ...</td>\n",
       "      <td>0</td>\n",
       "      <td>1</td>\n",
       "      <td>0</td>\n",
       "      <td>0</td>\n",
       "      <td>0</td>\n",
       "      <td>0</td>\n",
       "      <td>0</td>\n",
       "      <td>0</td>\n",
       "      <td>0</td>\n",
       "      <td>0</td>\n",
       "      <td>0</td>\n",
       "      <td>0</td>\n",
       "      <td>0</td>\n",
       "      <td>0</td>\n",
       "      <td>0</td>\n",
       "      <td>0</td>\n",
       "    </tr>\n",
       "    <tr>\n",
       "      <td>4</td>\n",
       "      <td>Anger and Forgiveness</td>\n",
       "      <td>hi it is ira glass recording this in 2006 and...</td>\n",
       "      <td>0</td>\n",
       "      <td>1</td>\n",
       "      <td>0</td>\n",
       "      <td>0</td>\n",
       "      <td>0</td>\n",
       "      <td>0</td>\n",
       "      <td>1</td>\n",
       "      <td>0</td>\n",
       "      <td>0</td>\n",
       "      <td>1</td>\n",
       "      <td>0</td>\n",
       "      <td>0</td>\n",
       "      <td>0</td>\n",
       "      <td>0</td>\n",
       "      <td>0</td>\n",
       "      <td>0</td>\n",
       "    </tr>\n",
       "  </tbody>\n",
       "</table>\n",
       "</div>"
      ],
      "text/plain": [
       "                   title                                               text  \\\n",
       "0         New Beginnings   joe franklin  i am ready it is ira glass here...   \n",
       "1        Small Scale Sin   ok three boys aged 13 15 and 16 all three cho...   \n",
       "2      Poultry Slam 1995   in danielle s house ever since she was a girl...   \n",
       "3              Vacations   the thing about hawaii is that before you go ...   \n",
       "4  Anger and Forgiveness   hi it is ira glass recording this in 2006 and...   \n",
       "\n",
       "   Arts_genre  Science & Medicine_genre  Sports & Recreation_genre  \\\n",
       "0           0                         1                          0   \n",
       "1           1                         0                          0   \n",
       "2           1                         0                          0   \n",
       "3           0                         1                          0   \n",
       "4           0                         1                          0   \n",
       "\n",
       "   News & Politics_genre  Comedy_genre  Music_genre  \\\n",
       "0                      0             0            0   \n",
       "1                      0             0            0   \n",
       "2                      0             0            0   \n",
       "3                      0             0            0   \n",
       "4                      0             0            0   \n",
       "\n",
       "   Government & Organizations_genre  Society & Culture_genre  \\\n",
       "0                                 0                        0   \n",
       "1                                 0                        0   \n",
       "2                                 0                        0   \n",
       "3                                 0                        0   \n",
       "4                                 1                        0   \n",
       "\n",
       "   Kids & Family_genre  Business_genre  Health_genre  Games & Hobbies_genre  \\\n",
       "0                    0               1             1                      0   \n",
       "1                    0               1             0                      1   \n",
       "2                    0               1             0                      0   \n",
       "3                    0               0             0                      0   \n",
       "4                    0               1             0                      0   \n",
       "\n",
       "   Education_genre  Religion & Spirituality_genre  Technology_genre  \\\n",
       "0                0                              0                 0   \n",
       "1                1                              0                 0   \n",
       "2                0                              0                 0   \n",
       "3                0                              0                 0   \n",
       "4                0                              0                 0   \n",
       "\n",
       "   TV & Film_genre  \n",
       "0                0  \n",
       "1                0  \n",
       "2                0  \n",
       "3                0  \n",
       "4                0  "
      ]
     },
     "execution_count": 99,
     "metadata": {},
     "output_type": "execute_result"
    }
   ],
   "source": [
    "tal.head()"
   ]
  },
  {
   "cell_type": "code",
   "execution_count": 141,
   "metadata": {},
   "outputs": [],
   "source": [
    "col_sum = {}\n",
    "\n",
    "for g in genre_cols:\n",
    "    col_sum.update({g: sum(tal[g])})"
   ]
  },
  {
   "cell_type": "code",
   "execution_count": 101,
   "metadata": {},
   "outputs": [
    {
     "data": {
      "text/plain": [
       "{'Arts_genre': 263,\n",
       " 'Science & Medicine_genre': 224,\n",
       " 'Sports & Recreation_genre': 12,\n",
       " 'News & Politics_genre': 4,\n",
       " 'Comedy_genre': 4,\n",
       " 'Music_genre': 1,\n",
       " 'Government & Organizations_genre': 132,\n",
       " 'Society & Culture_genre': 23,\n",
       " 'Kids & Family_genre': 81,\n",
       " 'Business_genre': 201,\n",
       " 'Health_genre': 324,\n",
       " 'Games & Hobbies_genre': 65,\n",
       " 'Education_genre': 81,\n",
       " 'Religion & Spirituality_genre': 0,\n",
       " 'Technology_genre': 136,\n",
       " 'TV & Film_genre': 48}"
      ]
     },
     "execution_count": 101,
     "metadata": {},
     "output_type": "execute_result"
    }
   ],
   "source": [
    "col_sum"
   ]
  },
  {
   "cell_type": "code",
   "execution_count": 102,
   "metadata": {},
   "outputs": [
    {
     "data": {
      "text/html": [
       "<div>\n",
       "<style scoped>\n",
       "    .dataframe tbody tr th:only-of-type {\n",
       "        vertical-align: middle;\n",
       "    }\n",
       "\n",
       "    .dataframe tbody tr th {\n",
       "        vertical-align: top;\n",
       "    }\n",
       "\n",
       "    .dataframe thead th {\n",
       "        text-align: right;\n",
       "    }\n",
       "</style>\n",
       "<table border=\"1\" class=\"dataframe\">\n",
       "  <thead>\n",
       "    <tr style=\"text-align: right;\">\n",
       "      <th></th>\n",
       "      <th>title</th>\n",
       "      <th>text</th>\n",
       "      <th>Arts_genre</th>\n",
       "      <th>Science &amp; Medicine_genre</th>\n",
       "      <th>Sports &amp; Recreation_genre</th>\n",
       "      <th>News &amp; Politics_genre</th>\n",
       "      <th>Comedy_genre</th>\n",
       "      <th>Music_genre</th>\n",
       "      <th>Government &amp; Organizations_genre</th>\n",
       "      <th>Society &amp; Culture_genre</th>\n",
       "      <th>Kids &amp; Family_genre</th>\n",
       "      <th>Business_genre</th>\n",
       "      <th>Health_genre</th>\n",
       "      <th>Games &amp; Hobbies_genre</th>\n",
       "      <th>Education_genre</th>\n",
       "      <th>Religion &amp; Spirituality_genre</th>\n",
       "      <th>Technology_genre</th>\n",
       "      <th>TV &amp; Film_genre</th>\n",
       "    </tr>\n",
       "  </thead>\n",
       "  <tbody>\n",
       "    <tr>\n",
       "      <td>103</td>\n",
       "      <td>Music Lessons</td>\n",
       "      <td>here s my seventh grade teacher s sad fate  h...</td>\n",
       "      <td>1</td>\n",
       "      <td>1</td>\n",
       "      <td>0</td>\n",
       "      <td>0</td>\n",
       "      <td>0</td>\n",
       "      <td>1</td>\n",
       "      <td>0</td>\n",
       "      <td>0</td>\n",
       "      <td>1</td>\n",
       "      <td>0</td>\n",
       "      <td>0</td>\n",
       "      <td>0</td>\n",
       "      <td>0</td>\n",
       "      <td>0</td>\n",
       "      <td>0</td>\n",
       "      <td>1</td>\n",
       "    </tr>\n",
       "  </tbody>\n",
       "</table>\n",
       "</div>"
      ],
      "text/plain": [
       "             title                                               text  \\\n",
       "103  Music Lessons   here s my seventh grade teacher s sad fate  h...   \n",
       "\n",
       "     Arts_genre  Science & Medicine_genre  Sports & Recreation_genre  \\\n",
       "103           1                         1                          0   \n",
       "\n",
       "     News & Politics_genre  Comedy_genre  Music_genre  \\\n",
       "103                      0             0            1   \n",
       "\n",
       "     Government & Organizations_genre  Society & Culture_genre  \\\n",
       "103                                 0                        0   \n",
       "\n",
       "     Kids & Family_genre  Business_genre  Health_genre  Games & Hobbies_genre  \\\n",
       "103                    1               0             0                      0   \n",
       "\n",
       "     Education_genre  Religion & Spirituality_genre  Technology_genre  \\\n",
       "103                0                              0                 0   \n",
       "\n",
       "     TV & Film_genre  \n",
       "103                1  "
      ]
     },
     "execution_count": 102,
     "metadata": {},
     "output_type": "execute_result"
    }
   ],
   "source": [
    "tal[tal[\"comedy_genre\"] ==1]"
   ]
  },
  {
   "cell_type": "code",
   "execution_count": 140,
   "metadata": {
    "scrolled": false
   },
   "outputs": [
    {
     "data": {
      "image/png": "[encoded data removed]",
      "text/plain": [
       "<Figure size 432x288 with 1 Axes>"
      ]
     },
     "metadata": {
      "needs_background": "light"
     },
     "output_type": "display_data"
    }
   ],
   "source": [
    "tal[\"total_genres\"] = 0\n",
    "for g in genre_cols:\n",
    "    tal[\"total_genres\"] += tal[g]\n",
    "    \n",
    "    \n",
    "plt.title(\"Distribution of total predicted genres\")\n",
    "plt.hist(tal[\"total_genres\"], bins = 8)\n",
    "plt.show();\n",
    "tal.drop(columns=\"total_genres\", inplace=True)"
   ]
  },
  {
   "cell_type": "code",
   "execution_count": null,
   "metadata": {},
   "outputs": [],
   "source": []
  },
  {
   "cell_type": "code",
   "execution_count": 111,
   "metadata": {},
   "outputs": [
    {
     "data": {
      "image/png": "[encoded data removed]",
      "text/plain": [
       "<Figure size 432x288 with 1 Axes>"
      ]
     },
     "metadata": {
      "needs_background": "light"
     },
     "output_type": "display_data"
    }
   ],
   "source": [
    "data[\"total_genres\"] = 0\n",
    "for g in genres:\n",
    "    data[\"total_genres\"] += data[g]\n",
    "    \n",
    "    \n",
    "plt.title(\"Distribution of total actual genres\")\n",
    "plt.hist(data[\"total_genres\"], bins = 8, color =\"orange\")\n",
    "plt.show();"
   ]
  },
  {
   "cell_type": "code",
   "execution_count": 127,
   "metadata": {},
   "outputs": [],
   "source": [
    "final_pods.rename(columns ={\"title_x\": \"title\", \"description\":\"text\"}, inplace=True)"
   ]
  },
  {
   "cell_type": "code",
   "execution_count": 131,
   "metadata": {},
   "outputs": [],
   "source": [
    "final_pods.rename(columns={\"episode_title\":\"title\"}, inplace = True)"
   ]
  },
  {
   "cell_type": "code",
   "execution_count": 135,
   "metadata": {},
   "outputs": [],
   "source": [
    "final_pods = final_pods[[\"title\", \"text\",]+genre_cols]"
   ]
  },
  {
   "cell_type": "code",
   "execution_count": null,
   "metadata": {},
   "outputs": [],
   "source": [
    "final_pods.dropna(inplace=True)"
   ]
  },
  {
   "cell_type": "code",
   "execution_count": 153,
   "metadata": {},
   "outputs": [],
   "source": [
    "corpus = pd.concat([tal, final_pods])"
   ]
  },
  {
   "cell_type": "code",
   "execution_count": 156,
   "metadata": {},
   "outputs": [],
   "source": [
    "corpus.to_csv(\"Recommender files/corpus.csv\", index=False)"
   ]
  },
  {
   "cell_type": "code",
   "execution_count": null,
   "metadata": {},
   "outputs": [],
   "source": [
    "# models = {}\n",
    "# for g in genre_cols:\n",
    "#     print(f\"fitting best model for {g}\")\n",
    "#     time_0 = time.time()\n",
    "    \n",
    "# #     creating a balanced class\n",
    "#     genre = genre_training[genre_training[g] == 1]   \n",
    "#     other = genre_training[genre_training[g] == 0]\n",
    "#     rand_balance = np.random.choice(other.index, genre.shape[0]*2)\n",
    "#     balance = genre_training.iloc[list(rand_balance),:]\n",
    "\n",
    "# #     creating dataframe and my X & y variable\n",
    "#     df = pd.concat([genre, balance])\n",
    "#     X = df[\"text\"]\n",
    "#     y = df[g]\n",
    "\n",
    "#     pipe = Pipeline([\n",
    "#         (\"tvec\", TfidfVectorizer()),\n",
    "#         (\"rfclass\", RandomForestClassifier()),\n",
    "#     ])\n",
    "#     pipe_params = {\n",
    "#         \"tvec__stop_words\": [\"english\"],\n",
    "#         \"tvec__ngram_range\": [(1,1)],\n",
    "#         \"tvec__max_features\": list(range(500, 700, 50)),\n",
    "#         \"rfclass__n_estimators\": list(range(10,50,10)),\n",
    "#         \"rfclass__min_samples_split\": list(range(2,10,2)),\n",
    "#     }\n",
    "    \n",
    "#     grid = GridSearchCV(pipe,\n",
    "#                         pipe_params,\n",
    "#                         cv=3,\n",
    "#                         verbose=1,\n",
    "#                         n_jobs = -1)\n",
    "#     grid.fit(X,y)\n",
    "    \n",
    "#     print(f\"Done modeling {g}\")\n",
    "    \n",
    "#     null = np.round(1- genre_training[g].mean(), 5)\n",
    "#     best_model = grid.best_estimator_\n",
    "#     score = np.round(grid.best_score_)\n",
    "#     models.update({g:{\n",
    "#         \"best_model\": best_model,\n",
    "#         \"score\": score,\n",
    "#         \"grid\": grid\n",
    "#     }})\n",
    "#     print(f\"accuracy score: {score}\")    \n",
    "#     if score <= null:\n",
    "#         print(f\"the null model ({null}) for {g} ({(score)}) performs better by {np.round(null-score, 3)} points \\n \\n\")"
   ]
  }
 ],
 "metadata": {
  "kernelspec": {
   "display_name": "Python 3",
   "language": "python",
   "name": "python3"
  },
  "language_info": {
   "codemirror_mode": {
    "name": "ipython",
    "version": 3
   },
   "file_extension": ".py",
   "mimetype": "text/x-python",
   "name": "python",
   "nbconvert_exporter": "python",
   "pygments_lexer": "ipython3",
   "version": "3.7.3"
  }
 },
 "nbformat": 4,
 "nbformat_minor": 2
}
