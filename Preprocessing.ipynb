{
 "cells": [
  {
   "cell_type": "code",
   "execution_count": 44,
   "metadata": {},
   "outputs": [],
   "source": [
    "import pandas as pd\n",
    "from nltk.corpus import stopwords\n",
    "from sklearn.feature_extraction.text import TfidfVectorizer"
   ]
  },
  {
   "cell_type": "code",
   "execution_count": 3,
   "metadata": {},
   "outputs": [],
   "source": [
    "stop_words = stopwords.words(\"english\")"
   ]
  },
  {
   "cell_type": "code",
   "execution_count": 23,
   "metadata": {},
   "outputs": [],
   "source": [
    "podcasts = pd.read_csv(\"raw data/episode_info_clean.csv\")"
   ]
  },
  {
   "cell_type": "code",
   "execution_count": 32,
   "metadata": {},
   "outputs": [
    {
     "data": {
      "text/html": [
       "<div>\n",
       "<style scoped>\n",
       "    .dataframe tbody tr th:only-of-type {\n",
       "        vertical-align: middle;\n",
       "    }\n",
       "\n",
       "    .dataframe tbody tr th {\n",
       "        vertical-align: top;\n",
       "    }\n",
       "\n",
       "    .dataframe thead th {\n",
       "        text-align: right;\n",
       "    }\n",
       "</style>\n",
       "<table border=\"1\" class=\"dataframe\">\n",
       "  <thead>\n",
       "    <tr style=\"text-align: right;\">\n",
       "      <th></th>\n",
       "      <th>episode_number</th>\n",
       "      <th>radio_date</th>\n",
       "      <th>title</th>\n",
       "    </tr>\n",
       "  </thead>\n",
       "  <tbody>\n",
       "    <tr>\n",
       "      <td>0</td>\n",
       "      <td>1</td>\n",
       "      <td>1995-11-17</td>\n",
       "      <td>New Beginnings</td>\n",
       "    </tr>\n",
       "    <tr>\n",
       "      <td>1</td>\n",
       "      <td>2</td>\n",
       "      <td>1995-11-24</td>\n",
       "      <td>Small Scale Sin</td>\n",
       "    </tr>\n",
       "    <tr>\n",
       "      <td>2</td>\n",
       "      <td>3</td>\n",
       "      <td>1995-12-01</td>\n",
       "      <td>Poultry Slam 1995</td>\n",
       "    </tr>\n",
       "    <tr>\n",
       "      <td>3</td>\n",
       "      <td>4</td>\n",
       "      <td>1995-12-08</td>\n",
       "      <td>Vacations</td>\n",
       "    </tr>\n",
       "    <tr>\n",
       "      <td>4</td>\n",
       "      <td>5</td>\n",
       "      <td>1995-12-15</td>\n",
       "      <td>Anger and Forgiveness</td>\n",
       "    </tr>\n",
       "    <tr>\n",
       "      <td>...</td>\n",
       "      <td>...</td>\n",
       "      <td>...</td>\n",
       "      <td>...</td>\n",
       "    </tr>\n",
       "    <tr>\n",
       "      <td>626</td>\n",
       "      <td>628</td>\n",
       "      <td>2017-10-13</td>\n",
       "      <td>In the Shadow of the City 2017</td>\n",
       "    </tr>\n",
       "    <tr>\n",
       "      <td>627</td>\n",
       "      <td>629</td>\n",
       "      <td>2017-10-20</td>\n",
       "      <td>Expect Delays</td>\n",
       "    </tr>\n",
       "    <tr>\n",
       "      <td>628</td>\n",
       "      <td>630</td>\n",
       "      <td>2017-10-27</td>\n",
       "      <td>Things I Mean to Know</td>\n",
       "    </tr>\n",
       "    <tr>\n",
       "      <td>629</td>\n",
       "      <td>631</td>\n",
       "      <td>2017-11-10</td>\n",
       "      <td>So a Monkey and a Horse Walk Into a Bar</td>\n",
       "    </tr>\n",
       "    <tr>\n",
       "      <td>630</td>\n",
       "      <td>374</td>\n",
       "      <td>2009-02-27</td>\n",
       "      <td>Somewhere Out There</td>\n",
       "    </tr>\n",
       "  </tbody>\n",
       "</table>\n",
       "<p>631 rows × 3 columns</p>\n",
       "</div>"
      ],
      "text/plain": [
       "     episode_number  radio_date                                    title\n",
       "0                 1  1995-11-17                           New Beginnings\n",
       "1                 2  1995-11-24                          Small Scale Sin\n",
       "2                 3  1995-12-01                        Poultry Slam 1995\n",
       "3                 4  1995-12-08                                Vacations\n",
       "4                 5  1995-12-15                    Anger and Forgiveness\n",
       "..              ...         ...                                      ...\n",
       "626             628  2017-10-13           In the Shadow of the City 2017\n",
       "627             629  2017-10-20                            Expect Delays\n",
       "628             630  2017-10-27                    Things I Mean to Know\n",
       "629             631  2017-11-10  So a Monkey and a Horse Walk Into a Bar\n",
       "630             374  2009-02-27                      Somewhere Out There\n",
       "\n",
       "[631 rows x 3 columns]"
      ]
     },
     "execution_count": 32,
     "metadata": {},
     "output_type": "execute_result"
    }
   ],
   "source": [
    "podcasts"
   ]
  },
  {
   "cell_type": "code",
   "execution_count": 34,
   "metadata": {},
   "outputs": [],
   "source": [
    "titles = {}\n",
    "for i in range(podcasts.shape[0]):\n",
    "    k = podcasts[\"episode_number\"][i]\n",
    "    v = podcasts[\"title\"][i]\n",
    "    titles.update({k:v})"
   ]
  },
  {
   "cell_type": "code",
   "execution_count": 36,
   "metadata": {},
   "outputs": [],
   "source": [
    "transcript = pd.read_csv(\"raw transcripts/this_american_life.csv\")"
   ]
  },
  {
   "cell_type": "code",
   "execution_count": 39,
   "metadata": {},
   "outputs": [],
   "source": [
    "transcript[\"episode\"] = transcript[\"episode\"].map(titles)"
   ]
  },
  {
   "cell_type": "code",
   "execution_count": 42,
   "metadata": {},
   "outputs": [],
   "source": [
    "transcript = transcript.set_index(\"episode\")"
   ]
  },
  {
   "cell_type": "code",
   "execution_count": 43,
   "metadata": {},
   "outputs": [
    {
     "data": {
      "text/html": [
       "<div>\n",
       "<style scoped>\n",
       "    .dataframe tbody tr th:only-of-type {\n",
       "        vertical-align: middle;\n",
       "    }\n",
       "\n",
       "    .dataframe tbody tr th {\n",
       "        vertical-align: top;\n",
       "    }\n",
       "\n",
       "    .dataframe thead th {\n",
       "        text-align: right;\n",
       "    }\n",
       "</style>\n",
       "<table border=\"1\" class=\"dataframe\">\n",
       "  <thead>\n",
       "    <tr style=\"text-align: right;\">\n",
       "      <th></th>\n",
       "      <th>text</th>\n",
       "    </tr>\n",
       "    <tr>\n",
       "      <th>episode</th>\n",
       "      <th></th>\n",
       "    </tr>\n",
       "  </thead>\n",
       "  <tbody>\n",
       "    <tr>\n",
       "      <td>New Beginnings</td>\n",
       "      <td>Joe Franklin? I'm ready. It's Ira Glass here....</td>\n",
       "    </tr>\n",
       "    <tr>\n",
       "      <td>Small Scale Sin</td>\n",
       "      <td>OK, three boys, aged 13, 15, and 16. All thre...</td>\n",
       "    </tr>\n",
       "    <tr>\n",
       "      <td>Poultry Slam 1995</td>\n",
       "      <td>In Danielle's house, ever since she was a gir...</td>\n",
       "    </tr>\n",
       "    <tr>\n",
       "      <td>Vacations</td>\n",
       "      <td>The thing about Hawaii is that before you go ...</td>\n",
       "    </tr>\n",
       "    <tr>\n",
       "      <td>Anger and Forgiveness</td>\n",
       "      <td>Hi. It's Ira Glass recording this in 2006. A...</td>\n",
       "    </tr>\n",
       "    <tr>\n",
       "      <td>...</td>\n",
       "      <td>...</td>\n",
       "    </tr>\n",
       "    <tr>\n",
       "      <td>Suitable for Children</td>\n",
       "      <td>There's a story my mom used to like to tell....</td>\n",
       "    </tr>\n",
       "    <tr>\n",
       "      <td>In the Shadow of the City 2017</td>\n",
       "      <td>OK. This happens to be Chicago, but every ci...</td>\n",
       "    </tr>\n",
       "    <tr>\n",
       "      <td>Expect Delays</td>\n",
       "      <td>A couple months ago, I got into a plane in S...</td>\n",
       "    </tr>\n",
       "    <tr>\n",
       "      <td>Things I Mean to Know</td>\n",
       "      <td>Hey everybody, Ira Glass here, and I am in t...</td>\n",
       "    </tr>\n",
       "    <tr>\n",
       "      <td>So a Monkey and a Horse Walk Into a Bar</td>\n",
       "      <td>So a horse walks into a movie theater, gets ...</td>\n",
       "    </tr>\n",
       "  </tbody>\n",
       "</table>\n",
       "<p>631 rows × 1 columns</p>\n",
       "</div>"
      ],
      "text/plain": [
       "                                                                                      text\n",
       "episode                                                                                   \n",
       "New Beginnings                            Joe Franklin? I'm ready. It's Ira Glass here....\n",
       "Small Scale Sin                           OK, three boys, aged 13, 15, and 16. All thre...\n",
       "Poultry Slam 1995                         In Danielle's house, ever since she was a gir...\n",
       "Vacations                                 The thing about Hawaii is that before you go ...\n",
       "Anger and Forgiveness                      Hi. It's Ira Glass recording this in 2006. A...\n",
       "...                                                                                    ...\n",
       "Suitable for Children                      There's a story my mom used to like to tell....\n",
       "In the Shadow of the City 2017             OK. This happens to be Chicago, but every ci...\n",
       "Expect Delays                              A couple months ago, I got into a plane in S...\n",
       "Things I Mean to Know                      Hey everybody, Ira Glass here, and I am in t...\n",
       "So a Monkey and a Horse Walk Into a Bar    So a horse walks into a movie theater, gets ...\n",
       "\n",
       "[631 rows x 1 columns]"
      ]
     },
     "execution_count": 43,
     "metadata": {},
     "output_type": "execute_result"
    }
   ],
   "source": [
    "transcript"
   ]
  },
  {
   "cell_type": "code",
   "execution_count": null,
   "metadata": {},
   "outputs": [],
   "source": [
    "TfidfVectorizer( )"
   ]
  }
 ],
 "metadata": {
  "kernelspec": {
   "display_name": "Python 3",
   "language": "python",
   "name": "python3"
  },
  "language_info": {
   "codemirror_mode": {
    "name": "ipython",
    "version": 3
   },
   "file_extension": ".py",
   "mimetype": "text/x-python",
   "name": "python",
   "nbconvert_exporter": "python",
   "pygments_lexer": "ipython3",
   "version": "3.7.3"
  }
 },
 "nbformat": 4,
 "nbformat_minor": 2
}
